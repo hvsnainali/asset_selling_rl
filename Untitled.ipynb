{
 "cells": [
  {
   "cell_type": "code",
   "execution_count": 1,
   "id": "fdc93d9d-c32b-4806-a2e8-b7b7111a30e0",
   "metadata": {
    "tags": []
   },
   "outputs": [
    {
     "name": "stdout",
     "output_type": "stream",
     "text": [
      "Cleaning data for BTC_USD...\n",
      "Cleaned data saved for BTC_USD.\n",
      "Cleaning data for ETH_USD...\n",
      "Cleaned data saved for ETH_USD.\n",
      "Cleaning data for XRP_USD...\n",
      "Cleaned data saved for XRP_USD.\n",
      "Cleaning data for SOL_USD...\n",
      "Cleaned data saved for SOL_USD.\n",
      "Cleaning data for ADA_USD...\n",
      "Cleaned data saved for ADA_USD.\n"
     ]
    }
   ],
   "source": [
    "import pandas as pd\n",
    "import os\n",
    "\n",
    "# Path to the data folder\n",
    "data_folder = \"data\"\n",
    "\n",
    "# List of cryptocurrency symbols\n",
    "symbols = [\"BTC_USD\", \"ETH_USD\", \"XRP_USD\", \"SOL_USD\", \"ADA_USD\"]\n",
    "\n",
    "# Clean each CSV file\n",
    "for symbol in symbols:\n",
    "    file_path = os.path.join(data_folder, f\"{symbol}.csv\")\n",
    "    if os.path.exists(file_path):\n",
    "        print(f\"Cleaning data for {symbol}...\")\n",
    "\n",
    "        # Load the CSV file\n",
    "        df = pd.read_csv(file_path)\n",
    "\n",
    "        # Drop rows where the 'Close' column contains non-numeric values\n",
    "        df[\"Close\"] = pd.to_numeric(df[\"Close\"], errors=\"coerce\")  # Convert 'Close' to numeric\n",
    "        df = df.dropna(subset=[\"Close\"])  # Drop rows with NaN in 'Close'\n",
    "\n",
    "        # Save the cleaned data back to the CSV\n",
    "        df.to_csv(file_path, index=False)\n",
    "        print(f\"Cleaned data saved for {symbol}.\")\n",
    "\n",
    "    else:\n",
    "        print(f\"File not found for {symbol}: {file_path}\")\n"
   ]
  },
  {
   "cell_type": "code",
   "execution_count": null,
   "id": "c54fca32-54ca-4eec-b009-a30982446130",
   "metadata": {},
   "outputs": [],
   "source": []
  }
 ],
 "metadata": {
  "kernelspec": {
   "display_name": "Python 3 (ipykernel)",
   "language": "python",
   "name": "python3"
  },
  "language_info": {
   "codemirror_mode": {
    "name": "ipython",
    "version": 3
   },
   "file_extension": ".py",
   "mimetype": "text/x-python",
   "name": "python",
   "nbconvert_exporter": "python",
   "pygments_lexer": "ipython3",
   "version": "3.11.5"
  }
 },
 "nbformat": 4,
 "nbformat_minor": 5
}
